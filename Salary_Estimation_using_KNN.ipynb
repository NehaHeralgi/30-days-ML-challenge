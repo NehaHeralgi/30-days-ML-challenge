{
 "cells": [
  {
   "cell_type": "markdown",
   "id": "c12102c0",
   "metadata": {},
   "source": [
    "# Salary Estimation using K-Nearset Neighbour model"
   ]
  },
  {
   "cell_type": "markdown",
   "id": "0dd84704",
   "metadata": {},
   "source": [
    "#### Importing Libraries"
   ]
  },
  {
   "cell_type": "code",
   "execution_count": 2,
   "id": "28309c87",
   "metadata": {},
   "outputs": [],
   "source": [
    "import pandas as pd\n",
    "import numpy as np"
   ]
  },
  {
   "cell_type": "markdown",
   "id": "6b8c09a5",
   "metadata": {},
   "source": [
    "#### Load dataset"
   ]
  },
  {
   "cell_type": "code",
   "execution_count": 3,
   "id": "033a4072",
   "metadata": {},
   "outputs": [],
   "source": [
    "dataset=pd.read_csv('adult.csv')"
   ]
  },
  {
   "cell_type": "markdown",
   "id": "6575da71",
   "metadata": {},
   "source": [
    "#### Summarize dataset"
   ]
  },
  {
   "cell_type": "code",
   "execution_count": 4,
   "id": "3190ade5",
   "metadata": {},
   "outputs": [
    {
     "name": "stdout",
     "output_type": "stream",
     "text": [
      "(32561, 15)\n",
      "   age workclass  fnlwgt     education  education.num marital.status  \\\n",
      "0   90         ?   77053       HS-grad              9        Widowed   \n",
      "1   82   Private  132870       HS-grad              9        Widowed   \n",
      "2   66         ?  186061  Some-college             10        Widowed   \n",
      "3   54   Private  140359       7th-8th              4       Divorced   \n",
      "4   41   Private  264663  Some-college             10      Separated   \n",
      "\n",
      "          occupation   relationship   race     sex  capital.gain  \\\n",
      "0                  ?  Not-in-family  White  Female             0   \n",
      "1    Exec-managerial  Not-in-family  White  Female             0   \n",
      "2                  ?      Unmarried  Black  Female             0   \n",
      "3  Machine-op-inspct      Unmarried  White  Female             0   \n",
      "4     Prof-specialty      Own-child  White  Female             0   \n",
      "\n",
      "   capital.loss  hours.per.week native.country income  \n",
      "0          4356              40  United-States  <=50K  \n",
      "1          4356              18  United-States  <=50K  \n",
      "2          4356              40  United-States  <=50K  \n",
      "3          3900              40  United-States  <=50K  \n",
      "4          3900              40  United-States  <=50K  \n"
     ]
    }
   ],
   "source": [
    "print(dataset.shape)\n",
    "print(dataset.head(5))"
   ]
  },
  {
   "cell_type": "markdown",
   "id": "f23f69a6",
   "metadata": {},
   "source": [
    "#### Drop unncessary data column from Dataset"
   ]
  },
  {
   "cell_type": "code",
   "execution_count": 5,
   "id": "36797b57",
   "metadata": {},
   "outputs": [],
   "source": [
    "dataset.drop(labels=['workclass','fnlwgt','education','marital.status','occupation','relationship','race','sex','capital.loss','native.country'],axis=1,inplace=True)"
   ]
  },
  {
   "cell_type": "markdown",
   "id": "8b708a6c",
   "metadata": {},
   "source": [
    "#### Mapping Salary data to Binary value(0,1)"
   ]
  },
  {
   "cell_type": "code",
   "execution_count": 6,
   "id": "2c3d2cc1",
   "metadata": {},
   "outputs": [
    {
     "name": "stdout",
     "output_type": "stream",
     "text": [
      "<bound method NDFrame.head of        age  education.num  capital.gain  hours.per.week  income\n",
      "0       90              9             0              40       0\n",
      "1       82              9             0              18       0\n",
      "2       66             10             0              40       0\n",
      "3       54              4             0              40       0\n",
      "4       41             10             0              40       0\n",
      "...    ...            ...           ...             ...     ...\n",
      "32556   22             10             0              40       0\n",
      "32557   27             12             0              38       0\n",
      "32558   40              9             0              40       0\n",
      "32559   58              9             0              40       0\n",
      "32560   22              9             0              20       0\n",
      "\n",
      "[32561 rows x 5 columns]>\n"
     ]
    }
   ],
   "source": [
    "income_set=set(dataset['income'])\n",
    "dataset['income']=dataset['income'].map({'<=50':0,'>50':1}).fillna(0).astype(int)\n",
    "print(dataset.head)"
   ]
  },
  {
   "cell_type": "markdown",
   "id": "212511e5",
   "metadata": {},
   "source": [
    "#### Segregate dataset into X(input/independent variable)and Y(output/dependent variable)"
   ]
  },
  {
   "cell_type": "code",
   "execution_count": 7,
   "id": "9a66d11e",
   "metadata": {},
   "outputs": [
    {
     "data": {
      "text/plain": [
       "array([[90,  9,  0, 40],\n",
       "       [82,  9,  0, 18],\n",
       "       [66, 10,  0, 40],\n",
       "       ...,\n",
       "       [40,  9,  0, 40],\n",
       "       [58,  9,  0, 40],\n",
       "       [22,  9,  0, 20]], dtype=int64)"
      ]
     },
     "execution_count": 7,
     "metadata": {},
     "output_type": "execute_result"
    }
   ],
   "source": [
    "X=dataset.iloc[:,:-1].values\n",
    "X"
   ]
  },
  {
   "cell_type": "code",
   "execution_count": 8,
   "id": "aa79ff8e",
   "metadata": {},
   "outputs": [
    {
     "data": {
      "text/plain": [
       "array([0, 0, 0, ..., 0, 0, 0])"
      ]
     },
     "execution_count": 8,
     "metadata": {},
     "output_type": "execute_result"
    }
   ],
   "source": [
    "Y=dataset.iloc[:,-1].values\n",
    "Y"
   ]
  },
  {
   "cell_type": "markdown",
   "id": "cd11b59c",
   "metadata": {},
   "source": [
    "#### Splitting dataset into train and test"
   ]
  },
  {
   "cell_type": "code",
   "execution_count": 9,
   "id": "f36d076c",
   "metadata": {},
   "outputs": [],
   "source": [
    "from sklearn.model_selection import train_test_split\n",
    "X_train,X_test,y_train,y_test=train_test_split(X,Y,test_size=0.25,random_state=0)"
   ]
  },
  {
   "cell_type": "markdown",
   "id": "18b3e8e4",
   "metadata": {},
   "source": [
    "#### Feature Scaling : test data should be completely new and a surprise set for our model"
   ]
  },
  {
   "cell_type": "code",
   "execution_count": 10,
   "id": "6f82dfaa",
   "metadata": {},
   "outputs": [],
   "source": [
    "from sklearn.preprocessing import StandardScaler\n",
    "sc=StandardScaler()\n",
    "X_train=sc.fit_transform(X_train)\n",
    "X_test=sc.transform(X_test)"
   ]
  },
  {
   "cell_type": "markdown",
   "id": "10a61538",
   "metadata": {},
   "source": [
    "#### Finding the Best K-value"
   ]
  },
  {
   "cell_type": "code",
   "execution_count": 20,
   "id": "c15417b8",
   "metadata": {},
   "outputs": [
    {
     "data": {
      "text/plain": [
       "Text(0, 0.5, 'Mean Error')"
      ]
     },
     "execution_count": 20,
     "metadata": {},
     "output_type": "execute_result"
    },
    {
     "data": {
      "image/png": "[encoded data removed]",
      "text/plain": [
       "<Figure size 864x432 with 1 Axes>"
      ]
     },
     "metadata": {
      "needs_background": "light"
     },
     "output_type": "display_data"
    }
   ],
   "source": [
    "error=[]\n",
    "from sklearn.neighbors import KNeighborsClassifier\n",
    "import matplotlib.pyplot as plt\n",
    "\n",
    "#calculate error for K values between 1 to 40\n",
    "for i in range(1,40):\n",
    "    model=KNeighborsClassifier(n_neighbors=i)\n",
    "    model.fit(X_train,y_train)\n",
    "    pred_i=model.predict(X_test)\n",
    "    error.append(np.mean(pred_i!=y_test))\n",
    "    \n",
    "plt.figure(figsize=(12,6))\n",
    "plt.plot(range(1,40),error, color='red',linestyle='dashed',marker='o',markerfacecolor='blue',markersize=10)\n",
    "plt.title('Error Rate K value')\n",
    "plt.xlabel('K value')\n",
    "plt.ylabel('Mean Error')\n",
    "\n"
   ]
  },
  {
   "cell_type": "markdown",
   "id": "7f5e3361",
   "metadata": {},
   "source": [
    "#### Training"
   ]
  },
  {
   "cell_type": "code",
   "execution_count": 24,
   "id": "e4ba5e41",
   "metadata": {},
   "outputs": [
    {
     "data": {
      "text/plain": [
       "KNeighborsClassifier()"
      ]
     },
     "execution_count": 24,
     "metadata": {},
     "output_type": "execute_result"
    }
   ],
   "source": [
    "from sklearn.neighbors import KNeighborsClassifier\n",
    "model=KNeighborsClassifier(n_neighbors = 5,metric='minkowski',p=2)\n",
    "model.fit(X_train,y_train)"
   ]
  },
  {
   "cell_type": "markdown",
   "id": "4a4b0239",
   "metadata": {},
   "source": [
    "#### Predicting, whether new customer with age and salary will Buy or not"
   ]
  },
  {
   "cell_type": "code",
   "execution_count": null,
   "id": "c41ae5ec",
   "metadata": {},
   "outputs": [],
   "source": [
    "age=int(input(\"Enter new employee's age:\"))\n",
    "edu=int(input(\"Enter new employee's education:\"))\n",
    "cg=int(input(\"Enter new employee's captial gain:\"))\n",
    "wh=int(input(\"Enter new employee's hours per week:\"))\n",
    "newEmp=[[age,edu,cg,wh]]\n",
    "result= model.predict(sc.transform(newEmp))\n",
    "print(result)\n",
    "\n",
    "if result==1:\n",
    "    print(\"Employee might got Salary above 50k\")\n",
    "else:\n",
    "    print(\"Customer might not got Salary above 50k\")\n",
    "    "
   ]
  },
  {
   "cell_type": "markdown",
   "id": "4909c7ff",
   "metadata": {},
   "source": [
    "#### Prediction for all test data"
   ]
  },
  {
   "cell_type": "code",
   "execution_count": null,
   "id": "38215a9e",
   "metadata": {},
   "outputs": [],
   "source": [
    "y_pred=model.predict(X_test)\n",
    "print(np.concatenate((y_pred.reshape(len(y_pred),1),y_test.reshape(len(y_test),1)),1))"
   ]
  },
  {
   "cell_type": "markdown",
   "id": "6749f064",
   "metadata": {},
   "source": [
    "#### Evaluating model -CONFUSION MATRIX"
   ]
  },
  {
   "cell_type": "code",
   "execution_count": 17,
   "id": "af7fd80a",
   "metadata": {},
   "outputs": [
    {
     "name": "stdout",
     "output_type": "stream",
     "text": [
      "Confusion Matrix:\n",
      "[[8141]]\n",
      "Accuracy of the Model: 100.0%\n"
     ]
    }
   ],
   "source": [
    "from sklearn.metrics import confusion_matrix, accuracy_score\n",
    "cm=confusion_matrix(y_test,y_pred)\n",
    "\n",
    "print(\"Confusion Matrix:\")\n",
    "print(cm)\n",
    "\n",
    "print(\"Accuracy of the Model: {0}%\".format(accuracy_score(y_test,y_pred)*100))"
   ]
  },
  {
   "cell_type": "code",
   "execution_count": null,
   "id": "769bf70f",
   "metadata": {},
   "outputs": [],
   "source": []
  }
 ],
 "metadata": {
  "kernelspec": {
   "display_name": "Python 3 (ipykernel)",
   "language": "python",
   "name": "python3"
  },
  "language_info": {
   "codemirror_mode": {
    "name": "ipython",
    "version": 3
   },
   "file_extension": ".py",
   "mimetype": "text/x-python",
   "name": "python",
   "nbconvert_exporter": "python",
   "pygments_lexer": "ipython3",
   "version": "3.7.8"
  }
 },
 "nbformat": 4,
 "nbformat_minor": 5
}
